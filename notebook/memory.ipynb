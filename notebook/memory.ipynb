{
 "cells": [
  {
   "cell_type": "code",
   "execution_count": 1,
   "id": "a14577d9",
   "metadata": {},
   "outputs": [],
   "source": [
    "from langchain.memory import ConversationBufferMemory\n",
    "\n",
    "memory = ConversationBufferMemory(memory_key=\"chat_history\", return_messages=True)"
   ]
  },
  {
   "cell_type": "code",
   "execution_count": 5,
   "id": "c1ca9429",
   "metadata": {},
   "outputs": [],
   "source": [
    " \n",
    "_input = {\"input\": \"Deven & Sam are working on a hackathon project\"}\n",
    "memory.load_memory_variables(_input)\n",
    "memory.save_context(\n",
    "    _input,\n",
    "    {\"output\": \" That sounds like a great project! What kind of project are they working on?\"}\n",
    ")"
   ]
  },
  {
   "cell_type": "code",
   "execution_count": 13,
   "id": "30a52efe",
   "metadata": {},
   "outputs": [
    {
     "data": {
      "text/plain": [
       "ConversationBufferMemory(chat_memory=ChatMessageHistory(messages=[HumanMessage(content='Deven & Sam are working on a hackathon project', additional_kwargs={}, example=False), AIMessage(content=' That sounds like a great project! What kind of project are they working on?', additional_kwargs={}, example=False)]), output_key=None, input_key=None, return_messages=True, human_prefix='Human', ai_prefix='AI', memory_key='chat_history')"
      ]
     },
     "execution_count": 13,
     "metadata": {},
     "output_type": "execute_result"
    }
   ],
   "source": [
    "memory"
   ]
  },
  {
   "cell_type": "code",
   "execution_count": 12,
   "id": "d9e0fea2",
   "metadata": {},
   "outputs": [
    {
     "data": {
      "text/plain": [
       "[HumanMessage(content='Deven & Sam are working on a hackathon project', additional_kwargs={}, example=False),\n",
       " AIMessage(content=' That sounds like a great project! What kind of project are they working on?', additional_kwargs={}, example=False)]"
      ]
     },
     "execution_count": 12,
     "metadata": {},
     "output_type": "execute_result"
    }
   ],
   "source": [
    "import json\n",
    "memory.buffer"
   ]
  },
  {
   "cell_type": "code",
   "execution_count": 4,
   "id": "3c4604b5",
   "metadata": {},
   "outputs": [
    {
     "data": {
      "text/plain": [
       "ConversationBufferMemory(chat_memory=ChatMessageHistory(messages=[]), output_key=None, input_key=None, return_messages=True, human_prefix='Human', ai_prefix='AI', memory_key='chat_history')"
      ]
     },
     "execution_count": 4,
     "metadata": {},
     "output_type": "execute_result"
    }
   ],
   "source": [
    "memory = ConversationBufferMemory(memory_key=\"chat_history\", return_messages=True)\n",
    "memory"
   ]
  },
  {
   "cell_type": "code",
   "execution_count": null,
   "id": "5a0be02e",
   "metadata": {},
   "outputs": [],
   "source": []
  },
  {
   "cell_type": "code",
   "execution_count": 15,
   "id": "d058bb29",
   "metadata": {},
   "outputs": [
    {
     "name": "stdout",
     "output_type": "stream",
     "text": [
      "[HumanMessage(content='hello, chatgpt', additional_kwargs={}, example=False), AIMessage(content='hello1', additional_kwargs={}, example=False), AIMessage(content='hello2', additional_kwargs={}, example=False), HumanMessage(content='hello, chatgpt', additional_kwargs={}, example=False), AIMessage(content='hello3', additional_kwargs={}, example=False)]\n"
     ]
    }
   ],
   "source": [
    "from langchain.memory import ChatMessageHistory\n",
    "\n",
    "history = ChatMessageHistory()\n",
    "history.add_user_message(\"hello, chatgpt\")\n",
    "history.add_ai_message(\"hello1\")\n",
    "history.add_ai_message(\"hello2\")\n",
    "history.add_user_message(\"hello, chatgpt\")\n",
    "history.add_ai_message(\"hello3\")\n",
    "\n",
    "print(history.messages)"
   ]
  },
  {
   "cell_type": "code",
   "execution_count": 40,
   "id": "1732ede5",
   "metadata": {},
   "outputs": [
    {
     "name": "stdout",
     "output_type": "stream",
     "text": [
      "ConversationBufferWindowMemory(chat_memory=ChatMessageHistory(messages=[HumanMessage(content='a=1', additional_kwargs={}, example=False), AIMessage(content='The value of the variable a is 1.', additional_kwargs={}, example=False), HumanMessage(content='b=5', additional_kwargs={}, example=False), AIMessage(content='The value of the variable b is 5. ', additional_kwargs={}, example=False), HumanMessage(content='c=11', additional_kwargs={}, example=False), AIMessage(content='The value of the variable c is 11. ', additional_kwargs={}, example=False)]), output_key=None, input_key=None, return_messages=False, human_prefix='Human', ai_prefix='AI', memory_key='history', k=2)\n"
     ]
    }
   ],
   "source": [
    "from langchain.memory import ConversationBufferWindowMemory\n",
    "from pprint import pprint\n",
    "memory = ConversationBufferWindowMemory( k=2)\n",
    "memory.save_context({\"input\": \"a=1\"}, {\"output\": \"The value of the variable a is 1.\"})\n",
    "memory.save_context({\"input\": \"b=5\"}, {\"output\": \"The value of the variable b is 5. \"})\n",
    "memory.save_context({\"input\": \"c=11\"}, {\"output\": \"The value of the variable c is 11. \"})\n",
    "\n",
    "pprint(memory,  width=100)"
   ]
  },
  {
   "cell_type": "code",
   "execution_count": 27,
   "id": "f265218e",
   "metadata": {},
   "outputs": [
    {
     "data": {
      "text/plain": [
       "'{\"lc\": 1, \"type\": \"not_implemented\", \"id\": [\"langchain\", \"memory\", \"buffer_window\", \"ConversationBufferWindowMemory\"]}'"
      ]
     },
     "execution_count": 27,
     "metadata": {},
     "output_type": "execute_result"
    }
   ],
   "source": [
    "json.dumps(memory.to_json())"
   ]
  },
  {
   "cell_type": "code",
   "execution_count": 35,
   "id": "911b073c",
   "metadata": {},
   "outputs": [
    {
     "name": "stdout",
     "output_type": "stream",
     "text": [
      "{'history': 'Human: b=5\\n'\n",
      "            'AI: The value of the variable b is 5. \\n'\n",
      "            'Human: c=11\\n'\n",
      "            'AI: The value of the variable c is 11. '}\n"
     ]
    }
   ],
   "source": [
    "pprint(memory.load_memory_variables({}))"
   ]
  }
 ],
 "metadata": {
  "kernelspec": {
   "display_name": "Python 3 (ipykernel)",
   "language": "python",
   "name": "python3"
  },
  "language_info": {
   "codemirror_mode": {
    "name": "ipython",
    "version": 3
   },
   "file_extension": ".py",
   "mimetype": "text/x-python",
   "name": "python",
   "nbconvert_exporter": "python",
   "pygments_lexer": "ipython3",
   "version": "3.9.12"
  }
 },
 "nbformat": 4,
 "nbformat_minor": 5
}
